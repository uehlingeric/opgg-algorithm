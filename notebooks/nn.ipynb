{
 "cells": [
  {
   "cell_type": "markdown",
   "metadata": {},
   "source": [
    "# League of Legends OP Score Prediction Model (Neural Network Implementation)\n",
    "\n",
    "## Introduction\n",
    "This notebook aims to develop a neural network model that predicts the op.gg game evaluation score for individual League of Legends games based on various performance metrics.\n",
    "\n",
    "## Setup and Imports\n",
    "First, we import necessary libraries and set up our environment for the model development."
   ]
  },
  {
   "cell_type": "markdown",
   "metadata": {},
   "source": [
    "## Setup and Imports"
   ]
  },
  {
   "cell_type": "code",
   "execution_count": 65,
   "metadata": {},
   "outputs": [],
   "source": [
    "import pandas as pd\n",
    "import tensorflow as tf\n",
    "import keras\n",
    "from sklearn.model_selection import train_test_split\n",
    "from sklearn.metrics import mean_squared_error, r2_score\n",
    "from sklearn.preprocessing import QuantileTransformer\n",
    "from sklearn.compose import ColumnTransformer\n",
    "from sklearn.pipeline import Pipeline\n",
    "from sklearn.preprocessing import OneHotEncoder\n",
    "import os\n",
    "import matplotlib.pyplot as plt\n",
    "import joblib\n",
    "\n",
    "output_dir = \"../outputs/nn\"\n",
    "if not os.path.exists(output_dir):\n",
    "    os.makedirs(output_dir)"
   ]
  },
  {
   "cell_type": "markdown",
   "metadata": {},
   "source": [
    "## Data Loading\n",
    "Here, we load the dataset from a CSV file, preparing it for preprocessing and analysis."
   ]
  },
  {
   "cell_type": "code",
   "execution_count": 48,
   "metadata": {},
   "outputs": [
    {
     "data": {
      "text/html": [
       "<div>\n",
       "<style scoped>\n",
       "    .dataframe tbody tr th:only-of-type {\n",
       "        vertical-align: middle;\n",
       "    }\n",
       "\n",
       "    .dataframe tbody tr th {\n",
       "        vertical-align: top;\n",
       "    }\n",
       "\n",
       "    .dataframe thead th {\n",
       "        text-align: right;\n",
       "    }\n",
       "</style>\n",
       "<table border=\"1\" class=\"dataframe\">\n",
       "  <thead>\n",
       "    <tr style=\"text-align: right;\">\n",
       "      <th></th>\n",
       "      <th>champ</th>\n",
       "      <th>position</th>\n",
       "      <th>op_score</th>\n",
       "      <th>win</th>\n",
       "      <th>length</th>\n",
       "      <th>kill</th>\n",
       "      <th>death</th>\n",
       "      <th>assist</th>\n",
       "      <th>kda</th>\n",
       "      <th>dmg</th>\n",
       "      <th>...</th>\n",
       "      <th>dmg_per_gold</th>\n",
       "      <th>vision</th>\n",
       "      <th>pinks_bought</th>\n",
       "      <th>ward_kill</th>\n",
       "      <th>ward_place</th>\n",
       "      <th>cs_diff</th>\n",
       "      <th>gold_diff</th>\n",
       "      <th>level_diff</th>\n",
       "      <th>dmg_taken_diff</th>\n",
       "      <th>dmg_diff</th>\n",
       "    </tr>\n",
       "  </thead>\n",
       "  <tbody>\n",
       "    <tr>\n",
       "      <th>0</th>\n",
       "      <td>Kai'Sa</td>\n",
       "      <td>ADC</td>\n",
       "      <td>2.706</td>\n",
       "      <td>0</td>\n",
       "      <td>27.117</td>\n",
       "      <td>1</td>\n",
       "      <td>3</td>\n",
       "      <td>3</td>\n",
       "      <td>1.333</td>\n",
       "      <td>15557</td>\n",
       "      <td>...</td>\n",
       "      <td>1.591</td>\n",
       "      <td>20</td>\n",
       "      <td>2</td>\n",
       "      <td>2</td>\n",
       "      <td>9</td>\n",
       "      <td>3</td>\n",
       "      <td>-1796</td>\n",
       "      <td>-1</td>\n",
       "      <td>4038</td>\n",
       "      <td>-2384</td>\n",
       "    </tr>\n",
       "    <tr>\n",
       "      <th>1</th>\n",
       "      <td>Kindred</td>\n",
       "      <td>JUNGLE</td>\n",
       "      <td>1.253</td>\n",
       "      <td>0</td>\n",
       "      <td>27.117</td>\n",
       "      <td>2</td>\n",
       "      <td>6</td>\n",
       "      <td>2</td>\n",
       "      <td>0.667</td>\n",
       "      <td>17786</td>\n",
       "      <td>...</td>\n",
       "      <td>1.984</td>\n",
       "      <td>14</td>\n",
       "      <td>0</td>\n",
       "      <td>3</td>\n",
       "      <td>1</td>\n",
       "      <td>-50</td>\n",
       "      <td>-3741</td>\n",
       "      <td>-2</td>\n",
       "      <td>-277</td>\n",
       "      <td>1534</td>\n",
       "    </tr>\n",
       "    <tr>\n",
       "      <th>2</th>\n",
       "      <td>Ahri</td>\n",
       "      <td>MID</td>\n",
       "      <td>3.671</td>\n",
       "      <td>0</td>\n",
       "      <td>27.117</td>\n",
       "      <td>2</td>\n",
       "      <td>1</td>\n",
       "      <td>2</td>\n",
       "      <td>4.000</td>\n",
       "      <td>17686</td>\n",
       "      <td>...</td>\n",
       "      <td>1.879</td>\n",
       "      <td>19</td>\n",
       "      <td>5</td>\n",
       "      <td>1</td>\n",
       "      <td>13</td>\n",
       "      <td>-7</td>\n",
       "      <td>-2547</td>\n",
       "      <td>-1</td>\n",
       "      <td>-16970</td>\n",
       "      <td>2770</td>\n",
       "    </tr>\n",
       "    <tr>\n",
       "      <th>3</th>\n",
       "      <td>Aatrox</td>\n",
       "      <td>TOP</td>\n",
       "      <td>1.777</td>\n",
       "      <td>0</td>\n",
       "      <td>27.117</td>\n",
       "      <td>2</td>\n",
       "      <td>6</td>\n",
       "      <td>2</td>\n",
       "      <td>0.667</td>\n",
       "      <td>17220</td>\n",
       "      <td>...</td>\n",
       "      <td>1.666</td>\n",
       "      <td>16</td>\n",
       "      <td>0</td>\n",
       "      <td>4</td>\n",
       "      <td>6</td>\n",
       "      <td>21</td>\n",
       "      <td>-982</td>\n",
       "      <td>-1</td>\n",
       "      <td>5921</td>\n",
       "      <td>-4790</td>\n",
       "    </tr>\n",
       "    <tr>\n",
       "      <th>4</th>\n",
       "      <td>Nautilus</td>\n",
       "      <td>SUPPORT</td>\n",
       "      <td>2.501</td>\n",
       "      <td>0</td>\n",
       "      <td>27.117</td>\n",
       "      <td>3</td>\n",
       "      <td>6</td>\n",
       "      <td>5</td>\n",
       "      <td>1.333</td>\n",
       "      <td>6797</td>\n",
       "      <td>...</td>\n",
       "      <td>0.963</td>\n",
       "      <td>84</td>\n",
       "      <td>6</td>\n",
       "      <td>12</td>\n",
       "      <td>37</td>\n",
       "      <td>-6</td>\n",
       "      <td>-425</td>\n",
       "      <td>-2</td>\n",
       "      <td>2072</td>\n",
       "      <td>2855</td>\n",
       "    </tr>\n",
       "  </tbody>\n",
       "</table>\n",
       "<p>5 rows × 41 columns</p>\n",
       "</div>"
      ],
      "text/plain": [
       "      champ position  op_score  win  length  kill  death  assist    kda  \\\n",
       "0    Kai'Sa      ADC     2.706    0  27.117     1      3       3  1.333   \n",
       "1   Kindred   JUNGLE     1.253    0  27.117     2      6       2  0.667   \n",
       "2      Ahri      MID     3.671    0  27.117     2      1       2  4.000   \n",
       "3    Aatrox      TOP     1.777    0  27.117     2      6       2  0.667   \n",
       "4  Nautilus  SUPPORT     2.501    0  27.117     3      6       5  1.333   \n",
       "\n",
       "     dmg  ...  dmg_per_gold  vision  pinks_bought  ward_kill  ward_place  \\\n",
       "0  15557  ...         1.591      20             2          2           9   \n",
       "1  17786  ...         1.984      14             0          3           1   \n",
       "2  17686  ...         1.879      19             5          1          13   \n",
       "3  17220  ...         1.666      16             0          4           6   \n",
       "4   6797  ...         0.963      84             6         12          37   \n",
       "\n",
       "   cs_diff  gold_diff  level_diff  dmg_taken_diff  dmg_diff  \n",
       "0        3      -1796          -1            4038     -2384  \n",
       "1      -50      -3741          -2            -277      1534  \n",
       "2       -7      -2547          -1          -16970      2770  \n",
       "3       21       -982          -1            5921     -4790  \n",
       "4       -6       -425          -2            2072      2855  \n",
       "\n",
       "[5 rows x 41 columns]"
      ]
     },
     "execution_count": 48,
     "metadata": {},
     "output_type": "execute_result"
    }
   ],
   "source": [
    "# Load the dataset\n",
    "df = pd.read_csv('../data/processed/games.csv')\n",
    "df.head()"
   ]
  },
  {
   "cell_type": "markdown",
   "metadata": {},
   "source": [
    "## Preprocessing\n",
    "In this section, we preprocess the dataset by normalizing numerical features and encoding categorical features. We use a percentile rank approach for normalization to make the model less sensitive to outliers and scale the features effectively."
   ]
  },
  {
   "cell_type": "code",
   "execution_count": 66,
   "metadata": {},
   "outputs": [
    {
     "data": {
      "text/plain": [
       "((204390, 211), (204390,))"
      ]
     },
     "execution_count": 66,
     "metadata": {},
     "output_type": "execute_result"
    }
   ],
   "source": [
    "# Define the preprocessing for numerical features\n",
    "numerical_features = ['length', 'kill', 'death', 'assist', 'kda', 'dmg', 'magic_dmg', 'ad_dmg', 'all_dmg', \n",
    "                      'dmg_taken', 'ad_dmg_taken', 'mitigated_dmg', 'total_heal', 'cs', 'gold', 'level',\n",
    "                      'kp', 'dmg_perc', 'dmg_taken_perc', 'gold_perc', 'turret_kill', 'inhib_kill', \n",
    "                      'objective_dmg', 'turret_dmg', 'largest_multi_kill', 'largest_kill_spree', 'cc_score', \n",
    "                      'dmg_per_gold', 'vision', 'pinks_bought', 'ward_kill', 'ward_place', 'cs_diff', \n",
    "                      'gold_diff', 'level_diff', 'dmg_taken_diff', 'dmg_diff']\n",
    "\n",
    "# Use QuantileTransformer for numerical features\n",
    "quantile_transformer = Pipeline(steps=[\n",
    "    ('quantile', QuantileTransformer(output_distribution='normal'))\n",
    "])\n",
    "\n",
    "# Define the preprocessing for categorical features\n",
    "categorical_features = ['champ', 'position', 'win']\n",
    "\n",
    "# Use OneHotEncoder for categorical features\n",
    "categorical_transformer = Pipeline(steps=[\n",
    "    ('onehot', OneHotEncoder(handle_unknown='ignore'))\n",
    "])\n",
    "\n",
    "# Combine all preprocessing steps into a single ColumnTransformer\n",
    "preprocessor = ColumnTransformer(\n",
    "    transformers=[\n",
    "        ('num', quantile_transformer, numerical_features),\n",
    "        ('cat', categorical_transformer, categorical_features)\n",
    "    ])\n",
    "\n",
    "# Apply the preprocessing\n",
    "X = preprocessor.fit_transform(df.drop('op_score', axis=1))\n",
    "y = df['op_score'].values\n",
    "preprocessor.fit(df.drop('op_score', axis=1))\n",
    "\n",
    "joblib.dump(preprocessor, '../outputs/nn/preprocessor.pkl')\n",
    "\n",
    "X.shape, y.shape"
   ]
  },
  {
   "cell_type": "markdown",
   "metadata": {},
   "source": [
    "## Data Splitting\n",
    "Now we split the data into training and testing sets, preparing for the model training phase."
   ]
  },
  {
   "cell_type": "code",
   "execution_count": 50,
   "metadata": {},
   "outputs": [],
   "source": [
    "# Split the data into training and test sets\n",
    "X_train, X_test, y_train, y_test = train_test_split(X, y, test_size=0.2, random_state=42)"
   ]
  },
  {
   "cell_type": "markdown",
   "metadata": {},
   "source": [
    "## Model Definition\n",
    "We will define a simple neural network model using TensorFlow and Keras. This model will serve as our baseline to evaluate the basic predictive capabilities with respect to the op.gg score."
   ]
  },
  {
   "cell_type": "code",
   "execution_count": 51,
   "metadata": {},
   "outputs": [
    {
     "name": "stderr",
     "output_type": "stream",
     "text": [
      "c:\\Users\\Eric\\AppData\\Local\\Programs\\Python\\Python311\\Lib\\site-packages\\keras\\src\\layers\\core\\dense.py:87: UserWarning: Do not pass an `input_shape`/`input_dim` argument to a layer. When using Sequential models, prefer using an `Input(shape)` object as the first layer in the model instead.\n",
      "  super().__init__(activity_regularizer=activity_regularizer, **kwargs)\n"
     ]
    },
    {
     "data": {
      "text/html": [
       "<pre style=\"white-space:pre;overflow-x:auto;line-height:normal;font-family:Menlo,'DejaVu Sans Mono',consolas,'Courier New',monospace\"><span style=\"font-weight: bold\">Model: \"sequential_3\"</span>\n",
       "</pre>\n"
      ],
      "text/plain": [
       "\u001b[1mModel: \"sequential_3\"\u001b[0m\n"
      ]
     },
     "metadata": {},
     "output_type": "display_data"
    },
    {
     "data": {
      "text/html": [
       "<pre style=\"white-space:pre;overflow-x:auto;line-height:normal;font-family:Menlo,'DejaVu Sans Mono',consolas,'Courier New',monospace\">┏━━━━━━━━━━━━━━━━━━━━━━━━━━━━━━━━━┳━━━━━━━━━━━━━━━━━━━━━━━━┳━━━━━━━━━━━━━━━┓\n",
       "┃<span style=\"font-weight: bold\"> Layer (type)                    </span>┃<span style=\"font-weight: bold\"> Output Shape           </span>┃<span style=\"font-weight: bold\">       Param # </span>┃\n",
       "┡━━━━━━━━━━━━━━━━━━━━━━━━━━━━━━━━━╇━━━━━━━━━━━━━━━━━━━━━━━━╇━━━━━━━━━━━━━━━┩\n",
       "│ dense_24 (<span style=\"color: #0087ff; text-decoration-color: #0087ff\">Dense</span>)                │ (<span style=\"color: #00d7ff; text-decoration-color: #00d7ff\">None</span>, <span style=\"color: #00af00; text-decoration-color: #00af00\">128</span>)            │        <span style=\"color: #00af00; text-decoration-color: #00af00\">27,136</span> │\n",
       "├─────────────────────────────────┼────────────────────────┼───────────────┤\n",
       "│ dense_25 (<span style=\"color: #0087ff; text-decoration-color: #0087ff\">Dense</span>)                │ (<span style=\"color: #00d7ff; text-decoration-color: #00d7ff\">None</span>, <span style=\"color: #00af00; text-decoration-color: #00af00\">64</span>)             │         <span style=\"color: #00af00; text-decoration-color: #00af00\">8,256</span> │\n",
       "├─────────────────────────────────┼────────────────────────┼───────────────┤\n",
       "│ dense_26 (<span style=\"color: #0087ff; text-decoration-color: #0087ff\">Dense</span>)                │ (<span style=\"color: #00d7ff; text-decoration-color: #00d7ff\">None</span>, <span style=\"color: #00af00; text-decoration-color: #00af00\">1</span>)              │            <span style=\"color: #00af00; text-decoration-color: #00af00\">65</span> │\n",
       "└─────────────────────────────────┴────────────────────────┴───────────────┘\n",
       "</pre>\n"
      ],
      "text/plain": [
       "┏━━━━━━━━━━━━━━━━━━━━━━━━━━━━━━━━━┳━━━━━━━━━━━━━━━━━━━━━━━━┳━━━━━━━━━━━━━━━┓\n",
       "┃\u001b[1m \u001b[0m\u001b[1mLayer (type)                   \u001b[0m\u001b[1m \u001b[0m┃\u001b[1m \u001b[0m\u001b[1mOutput Shape          \u001b[0m\u001b[1m \u001b[0m┃\u001b[1m \u001b[0m\u001b[1m      Param #\u001b[0m\u001b[1m \u001b[0m┃\n",
       "┡━━━━━━━━━━━━━━━━━━━━━━━━━━━━━━━━━╇━━━━━━━━━━━━━━━━━━━━━━━━╇━━━━━━━━━━━━━━━┩\n",
       "│ dense_24 (\u001b[38;5;33mDense\u001b[0m)                │ (\u001b[38;5;45mNone\u001b[0m, \u001b[38;5;34m128\u001b[0m)            │        \u001b[38;5;34m27,136\u001b[0m │\n",
       "├─────────────────────────────────┼────────────────────────┼───────────────┤\n",
       "│ dense_25 (\u001b[38;5;33mDense\u001b[0m)                │ (\u001b[38;5;45mNone\u001b[0m, \u001b[38;5;34m64\u001b[0m)             │         \u001b[38;5;34m8,256\u001b[0m │\n",
       "├─────────────────────────────────┼────────────────────────┼───────────────┤\n",
       "│ dense_26 (\u001b[38;5;33mDense\u001b[0m)                │ (\u001b[38;5;45mNone\u001b[0m, \u001b[38;5;34m1\u001b[0m)              │            \u001b[38;5;34m65\u001b[0m │\n",
       "└─────────────────────────────────┴────────────────────────┴───────────────┘\n"
      ]
     },
     "metadata": {},
     "output_type": "display_data"
    },
    {
     "data": {
      "text/html": [
       "<pre style=\"white-space:pre;overflow-x:auto;line-height:normal;font-family:Menlo,'DejaVu Sans Mono',consolas,'Courier New',monospace\"><span style=\"font-weight: bold\"> Total params: </span><span style=\"color: #00af00; text-decoration-color: #00af00\">35,457</span> (138.50 KB)\n",
       "</pre>\n"
      ],
      "text/plain": [
       "\u001b[1m Total params: \u001b[0m\u001b[38;5;34m35,457\u001b[0m (138.50 KB)\n"
      ]
     },
     "metadata": {},
     "output_type": "display_data"
    },
    {
     "data": {
      "text/html": [
       "<pre style=\"white-space:pre;overflow-x:auto;line-height:normal;font-family:Menlo,'DejaVu Sans Mono',consolas,'Courier New',monospace\"><span style=\"font-weight: bold\"> Trainable params: </span><span style=\"color: #00af00; text-decoration-color: #00af00\">35,457</span> (138.50 KB)\n",
       "</pre>\n"
      ],
      "text/plain": [
       "\u001b[1m Trainable params: \u001b[0m\u001b[38;5;34m35,457\u001b[0m (138.50 KB)\n"
      ]
     },
     "metadata": {},
     "output_type": "display_data"
    },
    {
     "data": {
      "text/html": [
       "<pre style=\"white-space:pre;overflow-x:auto;line-height:normal;font-family:Menlo,'DejaVu Sans Mono',consolas,'Courier New',monospace\"><span style=\"font-weight: bold\"> Non-trainable params: </span><span style=\"color: #00af00; text-decoration-color: #00af00\">0</span> (0.00 B)\n",
       "</pre>\n"
      ],
      "text/plain": [
       "\u001b[1m Non-trainable params: \u001b[0m\u001b[38;5;34m0\u001b[0m (0.00 B)\n"
      ]
     },
     "metadata": {},
     "output_type": "display_data"
    }
   ],
   "source": [
    "# Define a simple neural network model\n",
    "model = keras.models.Sequential([\n",
    "    keras.layers.Dense(128, activation='relu', input_shape=(X_train.shape[1],)),\n",
    "    keras.layers.Dense(64, activation='relu'),\n",
    "    keras.layers.Dense(1)\n",
    "])\n",
    "\n",
    "# Compile the model\n",
    "model.compile(optimizer='adam', loss='mean_squared_error', metrics=['mean_squared_error', 'mean_absolute_error'])\n",
    "model.summary()"
   ]
  },
  {
   "cell_type": "markdown",
   "metadata": {},
   "source": [
    "## Model Training\n",
    "Here, we train our model on the training data and validate it using a portion of the data to monitor the performance and avoid overfitting."
   ]
  },
  {
   "cell_type": "code",
   "execution_count": 52,
   "metadata": {},
   "outputs": [
    {
     "name": "stdout",
     "output_type": "stream",
     "text": [
      "Epoch 1/50\n",
      "\u001b[1m4088/4088\u001b[0m \u001b[32m━━━━━━━━━━━━━━━━━━━━\u001b[0m\u001b[37m\u001b[0m \u001b[1m5s\u001b[0m 1ms/step - loss: 0.9727 - mean_absolute_error: 0.6461 - mean_squared_error: 0.9727 - val_loss: 0.3500 - val_mean_absolute_error: 0.4639 - val_mean_squared_error: 0.3500\n",
      "Epoch 2/50\n",
      "\u001b[1m4088/4088\u001b[0m \u001b[32m━━━━━━━━━━━━━━━━━━━━\u001b[0m\u001b[37m\u001b[0m \u001b[1m4s\u001b[0m 1ms/step - loss: 0.3466 - mean_absolute_error: 0.4634 - mean_squared_error: 0.3466 - val_loss: 0.3495 - val_mean_absolute_error: 0.4643 - val_mean_squared_error: 0.3495\n",
      "Epoch 3/50\n",
      "\u001b[1m4088/4088\u001b[0m \u001b[32m━━━━━━━━━━━━━━━━━━━━\u001b[0m\u001b[37m\u001b[0m \u001b[1m4s\u001b[0m 1ms/step - loss: 0.3217 - mean_absolute_error: 0.4453 - mean_squared_error: 0.3217 - val_loss: 0.3406 - val_mean_absolute_error: 0.4579 - val_mean_squared_error: 0.3406\n",
      "Epoch 4/50\n",
      "\u001b[1m4088/4088\u001b[0m \u001b[32m━━━━━━━━━━━━━━━━━━━━\u001b[0m\u001b[37m\u001b[0m \u001b[1m4s\u001b[0m 1ms/step - loss: 0.3144 - mean_absolute_error: 0.4399 - mean_squared_error: 0.3144 - val_loss: 0.3159 - val_mean_absolute_error: 0.4404 - val_mean_squared_error: 0.3159\n",
      "Epoch 5/50\n",
      "\u001b[1m4088/4088\u001b[0m \u001b[32m━━━━━━━━━━━━━━━━━━━━\u001b[0m\u001b[37m\u001b[0m \u001b[1m4s\u001b[0m 1ms/step - loss: 0.3060 - mean_absolute_error: 0.4340 - mean_squared_error: 0.3060 - val_loss: 0.3138 - val_mean_absolute_error: 0.4397 - val_mean_squared_error: 0.3138\n",
      "Epoch 6/50\n",
      "\u001b[1m4088/4088\u001b[0m \u001b[32m━━━━━━━━━━━━━━━━━━━━\u001b[0m\u001b[37m\u001b[0m \u001b[1m4s\u001b[0m 1ms/step - loss: 0.3014 - mean_absolute_error: 0.4308 - mean_squared_error: 0.3014 - val_loss: 0.3070 - val_mean_absolute_error: 0.4330 - val_mean_squared_error: 0.3070\n",
      "Epoch 7/50\n",
      "\u001b[1m4088/4088\u001b[0m \u001b[32m━━━━━━━━━━━━━━━━━━━━\u001b[0m\u001b[37m\u001b[0m \u001b[1m4s\u001b[0m 992us/step - loss: 0.2961 - mean_absolute_error: 0.4270 - mean_squared_error: 0.2961 - val_loss: 0.3076 - val_mean_absolute_error: 0.4342 - val_mean_squared_error: 0.3076\n",
      "Epoch 8/50\n",
      "\u001b[1m4088/4088\u001b[0m \u001b[32m━━━━━━━━━━━━━━━━━━━━\u001b[0m\u001b[37m\u001b[0m \u001b[1m4s\u001b[0m 1ms/step - loss: 0.2934 - mean_absolute_error: 0.4250 - mean_squared_error: 0.2934 - val_loss: 0.3130 - val_mean_absolute_error: 0.4377 - val_mean_squared_error: 0.3130\n",
      "Epoch 9/50\n",
      "\u001b[1m4088/4088\u001b[0m \u001b[32m━━━━━━━━━━━━━━━━━━━━\u001b[0m\u001b[37m\u001b[0m \u001b[1m4s\u001b[0m 1ms/step - loss: 0.2888 - mean_absolute_error: 0.4212 - mean_squared_error: 0.2888 - val_loss: 0.3077 - val_mean_absolute_error: 0.4339 - val_mean_squared_error: 0.3077\n",
      "Epoch 10/50\n",
      "\u001b[1m4088/4088\u001b[0m \u001b[32m━━━━━━━━━━━━━━━━━━━━\u001b[0m\u001b[37m\u001b[0m \u001b[1m4s\u001b[0m 993us/step - loss: 0.2853 - mean_absolute_error: 0.4183 - mean_squared_error: 0.2853 - val_loss: 0.3085 - val_mean_absolute_error: 0.4355 - val_mean_squared_error: 0.3085\n",
      "Epoch 11/50\n",
      "\u001b[1m4088/4088\u001b[0m \u001b[32m━━━━━━━━━━━━━━━━━━━━\u001b[0m\u001b[37m\u001b[0m \u001b[1m4s\u001b[0m 1ms/step - loss: 0.2844 - mean_absolute_error: 0.4190 - mean_squared_error: 0.2844 - val_loss: 0.3145 - val_mean_absolute_error: 0.4392 - val_mean_squared_error: 0.3145\n",
      "Epoch 12/50\n",
      "\u001b[1m4088/4088\u001b[0m \u001b[32m━━━━━━━━━━━━━━━━━━━━\u001b[0m\u001b[37m\u001b[0m \u001b[1m4s\u001b[0m 1ms/step - loss: 0.2814 - mean_absolute_error: 0.4161 - mean_squared_error: 0.2814 - val_loss: 0.3099 - val_mean_absolute_error: 0.4389 - val_mean_squared_error: 0.3099\n",
      "Epoch 13/50\n",
      "\u001b[1m4088/4088\u001b[0m \u001b[32m━━━━━━━━━━━━━━━━━━━━\u001b[0m\u001b[37m\u001b[0m \u001b[1m4s\u001b[0m 1ms/step - loss: 0.2786 - mean_absolute_error: 0.4142 - mean_squared_error: 0.2786 - val_loss: 0.3010 - val_mean_absolute_error: 0.4308 - val_mean_squared_error: 0.3010\n",
      "Epoch 14/50\n",
      "\u001b[1m4088/4088\u001b[0m \u001b[32m━━━━━━━━━━━━━━━━━━━━\u001b[0m\u001b[37m\u001b[0m \u001b[1m4s\u001b[0m 1ms/step - loss: 0.2768 - mean_absolute_error: 0.4130 - mean_squared_error: 0.2768 - val_loss: 0.3010 - val_mean_absolute_error: 0.4302 - val_mean_squared_error: 0.3010\n",
      "Epoch 15/50\n",
      "\u001b[1m4088/4088\u001b[0m \u001b[32m━━━━━━━━━━━━━━━━━━━━\u001b[0m\u001b[37m\u001b[0m \u001b[1m4s\u001b[0m 1ms/step - loss: 0.2728 - mean_absolute_error: 0.4090 - mean_squared_error: 0.2728 - val_loss: 0.3203 - val_mean_absolute_error: 0.4460 - val_mean_squared_error: 0.3203\n",
      "Epoch 16/50\n",
      "\u001b[1m4088/4088\u001b[0m \u001b[32m━━━━━━━━━━━━━━━━━━━━\u001b[0m\u001b[37m\u001b[0m \u001b[1m4s\u001b[0m 997us/step - loss: 0.2709 - mean_absolute_error: 0.4075 - mean_squared_error: 0.2709 - val_loss: 0.3151 - val_mean_absolute_error: 0.4399 - val_mean_squared_error: 0.3151\n",
      "Epoch 17/50\n",
      "\u001b[1m4088/4088\u001b[0m \u001b[32m━━━━━━━━━━━━━━━━━━━━\u001b[0m\u001b[37m\u001b[0m \u001b[1m4s\u001b[0m 1ms/step - loss: 0.2698 - mean_absolute_error: 0.4071 - mean_squared_error: 0.2698 - val_loss: 0.3091 - val_mean_absolute_error: 0.4363 - val_mean_squared_error: 0.3091\n",
      "Epoch 18/50\n",
      "\u001b[1m4088/4088\u001b[0m \u001b[32m━━━━━━━━━━━━━━━━━━━━\u001b[0m\u001b[37m\u001b[0m \u001b[1m4s\u001b[0m 997us/step - loss: 0.2680 - mean_absolute_error: 0.4052 - mean_squared_error: 0.2680 - val_loss: 0.3027 - val_mean_absolute_error: 0.4307 - val_mean_squared_error: 0.3027\n",
      "Epoch 19/50\n",
      "\u001b[1m4088/4088\u001b[0m \u001b[32m━━━━━━━━━━━━━━━━━━━━\u001b[0m\u001b[37m\u001b[0m \u001b[1m4s\u001b[0m 999us/step - loss: 0.2663 - mean_absolute_error: 0.4040 - mean_squared_error: 0.2663 - val_loss: 0.3048 - val_mean_absolute_error: 0.4301 - val_mean_squared_error: 0.3048\n",
      "Epoch 20/50\n",
      "\u001b[1m4088/4088\u001b[0m \u001b[32m━━━━━━━━━━━━━━━━━━━━\u001b[0m\u001b[37m\u001b[0m \u001b[1m4s\u001b[0m 999us/step - loss: 0.2640 - mean_absolute_error: 0.4026 - mean_squared_error: 0.2640 - val_loss: 0.3146 - val_mean_absolute_error: 0.4385 - val_mean_squared_error: 0.3146\n",
      "Epoch 21/50\n",
      "\u001b[1m4088/4088\u001b[0m \u001b[32m━━━━━━━━━━━━━━━━━━━━\u001b[0m\u001b[37m\u001b[0m \u001b[1m4s\u001b[0m 1ms/step - loss: 0.2618 - mean_absolute_error: 0.4008 - mean_squared_error: 0.2618 - val_loss: 0.3040 - val_mean_absolute_error: 0.4310 - val_mean_squared_error: 0.3040\n",
      "Epoch 22/50\n",
      "\u001b[1m4088/4088\u001b[0m \u001b[32m━━━━━━━━━━━━━━━━━━━━\u001b[0m\u001b[37m\u001b[0m \u001b[1m4s\u001b[0m 1ms/step - loss: 0.2612 - mean_absolute_error: 0.4006 - mean_squared_error: 0.2612 - val_loss: 0.3081 - val_mean_absolute_error: 0.4331 - val_mean_squared_error: 0.3081\n",
      "Epoch 23/50\n",
      "\u001b[1m4088/4088\u001b[0m \u001b[32m━━━━━━━━━━━━━━━━━━━━\u001b[0m\u001b[37m\u001b[0m \u001b[1m4s\u001b[0m 998us/step - loss: 0.2591 - mean_absolute_error: 0.3987 - mean_squared_error: 0.2591 - val_loss: 0.3068 - val_mean_absolute_error: 0.4328 - val_mean_squared_error: 0.3068\n",
      "Epoch 24/50\n",
      "\u001b[1m4088/4088\u001b[0m \u001b[32m━━━━━━━━━━━━━━━━━━━━\u001b[0m\u001b[37m\u001b[0m \u001b[1m4s\u001b[0m 996us/step - loss: 0.2595 - mean_absolute_error: 0.3994 - mean_squared_error: 0.2595 - val_loss: 0.3107 - val_mean_absolute_error: 0.4350 - val_mean_squared_error: 0.3107\n",
      "Epoch 25/50\n",
      "\u001b[1m4088/4088\u001b[0m \u001b[32m━━━━━━━━━━━━━━━━━━━━\u001b[0m\u001b[37m\u001b[0m \u001b[1m4s\u001b[0m 996us/step - loss: 0.2563 - mean_absolute_error: 0.3969 - mean_squared_error: 0.2563 - val_loss: 0.3163 - val_mean_absolute_error: 0.4397 - val_mean_squared_error: 0.3163\n",
      "Epoch 26/50\n",
      "\u001b[1m4088/4088\u001b[0m \u001b[32m━━━━━━━━━━━━━━━━━━━━\u001b[0m\u001b[37m\u001b[0m \u001b[1m4s\u001b[0m 999us/step - loss: 0.2545 - mean_absolute_error: 0.3952 - mean_squared_error: 0.2545 - val_loss: 0.3160 - val_mean_absolute_error: 0.4398 - val_mean_squared_error: 0.3160\n",
      "Epoch 27/50\n",
      "\u001b[1m4088/4088\u001b[0m \u001b[32m━━━━━━━━━━━━━━━━━━━━\u001b[0m\u001b[37m\u001b[0m \u001b[1m4s\u001b[0m 1ms/step - loss: 0.2560 - mean_absolute_error: 0.3961 - mean_squared_error: 0.2560 - val_loss: 0.3103 - val_mean_absolute_error: 0.4351 - val_mean_squared_error: 0.3103\n",
      "Epoch 28/50\n",
      "\u001b[1m4088/4088\u001b[0m \u001b[32m━━━━━━━━━━━━━━━━━━━━\u001b[0m\u001b[37m\u001b[0m \u001b[1m5s\u001b[0m 1ms/step - loss: 0.2531 - mean_absolute_error: 0.3939 - mean_squared_error: 0.2531 - val_loss: 0.3084 - val_mean_absolute_error: 0.4337 - val_mean_squared_error: 0.3084\n",
      "Epoch 29/50\n",
      "\u001b[1m4088/4088\u001b[0m \u001b[32m━━━━━━━━━━━━━━━━━━━━\u001b[0m\u001b[37m\u001b[0m \u001b[1m4s\u001b[0m 1ms/step - loss: 0.2512 - mean_absolute_error: 0.3926 - mean_squared_error: 0.2512 - val_loss: 0.3145 - val_mean_absolute_error: 0.4388 - val_mean_squared_error: 0.3145\n",
      "Epoch 30/50\n",
      "\u001b[1m4088/4088\u001b[0m \u001b[32m━━━━━━━━━━━━━━━━━━━━\u001b[0m\u001b[37m\u001b[0m \u001b[1m4s\u001b[0m 1ms/step - loss: 0.2504 - mean_absolute_error: 0.3918 - mean_squared_error: 0.2504 - val_loss: 0.3160 - val_mean_absolute_error: 0.4408 - val_mean_squared_error: 0.3160\n",
      "Epoch 31/50\n",
      "\u001b[1m4088/4088\u001b[0m \u001b[32m━━━━━━━━━━━━━━━━━━━━\u001b[0m\u001b[37m\u001b[0m \u001b[1m4s\u001b[0m 1ms/step - loss: 0.2494 - mean_absolute_error: 0.3905 - mean_squared_error: 0.2494 - val_loss: 0.3183 - val_mean_absolute_error: 0.4411 - val_mean_squared_error: 0.3183\n",
      "Epoch 32/50\n",
      "\u001b[1m4088/4088\u001b[0m \u001b[32m━━━━━━━━━━━━━━━━━━━━\u001b[0m\u001b[37m\u001b[0m \u001b[1m4s\u001b[0m 1ms/step - loss: 0.2481 - mean_absolute_error: 0.3898 - mean_squared_error: 0.2481 - val_loss: 0.3185 - val_mean_absolute_error: 0.4398 - val_mean_squared_error: 0.3185\n",
      "Epoch 33/50\n",
      "\u001b[1m4088/4088\u001b[0m \u001b[32m━━━━━━━━━━━━━━━━━━━━\u001b[0m\u001b[37m\u001b[0m \u001b[1m4s\u001b[0m 1ms/step - loss: 0.2476 - mean_absolute_error: 0.3891 - mean_squared_error: 0.2476 - val_loss: 0.3180 - val_mean_absolute_error: 0.4416 - val_mean_squared_error: 0.3180\n",
      "Epoch 34/50\n",
      "\u001b[1m4088/4088\u001b[0m \u001b[32m━━━━━━━━━━━━━━━━━━━━\u001b[0m\u001b[37m\u001b[0m \u001b[1m4s\u001b[0m 1ms/step - loss: 0.2447 - mean_absolute_error: 0.3867 - mean_squared_error: 0.2447 - val_loss: 0.3179 - val_mean_absolute_error: 0.4401 - val_mean_squared_error: 0.3179\n",
      "Epoch 35/50\n",
      "\u001b[1m4088/4088\u001b[0m \u001b[32m━━━━━━━━━━━━━━━━━━━━\u001b[0m\u001b[37m\u001b[0m \u001b[1m4s\u001b[0m 1ms/step - loss: 0.2446 - mean_absolute_error: 0.3872 - mean_squared_error: 0.2446 - val_loss: 0.3141 - val_mean_absolute_error: 0.4392 - val_mean_squared_error: 0.3141\n",
      "Epoch 36/50\n",
      "\u001b[1m4088/4088\u001b[0m \u001b[32m━━━━━━━━━━━━━━━━━━━━\u001b[0m\u001b[37m\u001b[0m \u001b[1m4s\u001b[0m 1ms/step - loss: 0.2443 - mean_absolute_error: 0.3867 - mean_squared_error: 0.2443 - val_loss: 0.3142 - val_mean_absolute_error: 0.4375 - val_mean_squared_error: 0.3142\n",
      "Epoch 37/50\n",
      "\u001b[1m4088/4088\u001b[0m \u001b[32m━━━━━━━━━━━━━━━━━━━━\u001b[0m\u001b[37m\u001b[0m \u001b[1m4s\u001b[0m 1ms/step - loss: 0.2434 - mean_absolute_error: 0.3861 - mean_squared_error: 0.2434 - val_loss: 0.3176 - val_mean_absolute_error: 0.4399 - val_mean_squared_error: 0.3176\n",
      "Epoch 38/50\n",
      "\u001b[1m4088/4088\u001b[0m \u001b[32m━━━━━━━━━━━━━━━━━━━━\u001b[0m\u001b[37m\u001b[0m \u001b[1m4s\u001b[0m 1ms/step - loss: 0.2424 - mean_absolute_error: 0.3848 - mean_squared_error: 0.2424 - val_loss: 0.3282 - val_mean_absolute_error: 0.4494 - val_mean_squared_error: 0.3282\n",
      "Epoch 39/50\n",
      "\u001b[1m4088/4088\u001b[0m \u001b[32m━━━━━━━━━━━━━━━━━━━━\u001b[0m\u001b[37m\u001b[0m \u001b[1m4s\u001b[0m 1ms/step - loss: 0.2408 - mean_absolute_error: 0.3847 - mean_squared_error: 0.2408 - val_loss: 0.3245 - val_mean_absolute_error: 0.4445 - val_mean_squared_error: 0.3245\n",
      "Epoch 40/50\n",
      "\u001b[1m4088/4088\u001b[0m \u001b[32m━━━━━━━━━━━━━━━━━━━━\u001b[0m\u001b[37m\u001b[0m \u001b[1m4s\u001b[0m 1ms/step - loss: 0.2399 - mean_absolute_error: 0.3830 - mean_squared_error: 0.2399 - val_loss: 0.3198 - val_mean_absolute_error: 0.4410 - val_mean_squared_error: 0.3198\n",
      "Epoch 41/50\n",
      "\u001b[1m4088/4088\u001b[0m \u001b[32m━━━━━━━━━━━━━━━━━━━━\u001b[0m\u001b[37m\u001b[0m \u001b[1m4s\u001b[0m 1ms/step - loss: 0.2387 - mean_absolute_error: 0.3816 - mean_squared_error: 0.2387 - val_loss: 0.3288 - val_mean_absolute_error: 0.4483 - val_mean_squared_error: 0.3288\n",
      "Epoch 42/50\n",
      "\u001b[1m4088/4088\u001b[0m \u001b[32m━━━━━━━━━━━━━━━━━━━━\u001b[0m\u001b[37m\u001b[0m \u001b[1m4s\u001b[0m 1ms/step - loss: 0.2363 - mean_absolute_error: 0.3803 - mean_squared_error: 0.2363 - val_loss: 0.3279 - val_mean_absolute_error: 0.4476 - val_mean_squared_error: 0.3279\n",
      "Epoch 43/50\n",
      "\u001b[1m4088/4088\u001b[0m \u001b[32m━━━━━━━━━━━━━━━━━━━━\u001b[0m\u001b[37m\u001b[0m \u001b[1m4s\u001b[0m 1ms/step - loss: 0.2359 - mean_absolute_error: 0.3802 - mean_squared_error: 0.2359 - val_loss: 0.3257 - val_mean_absolute_error: 0.4444 - val_mean_squared_error: 0.3257\n",
      "Epoch 44/50\n",
      "\u001b[1m4088/4088\u001b[0m \u001b[32m━━━━━━━━━━━━━━━━━━━━\u001b[0m\u001b[37m\u001b[0m \u001b[1m4s\u001b[0m 1ms/step - loss: 0.2357 - mean_absolute_error: 0.3795 - mean_squared_error: 0.2357 - val_loss: 0.3193 - val_mean_absolute_error: 0.4400 - val_mean_squared_error: 0.3193\n",
      "Epoch 45/50\n",
      "\u001b[1m4088/4088\u001b[0m \u001b[32m━━━━━━━━━━━━━━━━━━━━\u001b[0m\u001b[37m\u001b[0m \u001b[1m4s\u001b[0m 1ms/step - loss: 0.2343 - mean_absolute_error: 0.3790 - mean_squared_error: 0.2343 - val_loss: 0.3233 - val_mean_absolute_error: 0.4437 - val_mean_squared_error: 0.3233\n",
      "Epoch 46/50\n",
      "\u001b[1m4088/4088\u001b[0m \u001b[32m━━━━━━━━━━━━━━━━━━━━\u001b[0m\u001b[37m\u001b[0m \u001b[1m4s\u001b[0m 1ms/step - loss: 0.2342 - mean_absolute_error: 0.3786 - mean_squared_error: 0.2342 - val_loss: 0.3260 - val_mean_absolute_error: 0.4457 - val_mean_squared_error: 0.3260\n",
      "Epoch 47/50\n",
      "\u001b[1m4088/4088\u001b[0m \u001b[32m━━━━━━━━━━━━━━━━━━━━\u001b[0m\u001b[37m\u001b[0m \u001b[1m4s\u001b[0m 1ms/step - loss: 0.2327 - mean_absolute_error: 0.3769 - mean_squared_error: 0.2327 - val_loss: 0.3174 - val_mean_absolute_error: 0.4397 - val_mean_squared_error: 0.3174\n",
      "Epoch 48/50\n",
      "\u001b[1m4088/4088\u001b[0m \u001b[32m━━━━━━━━━━━━━━━━━━━━\u001b[0m\u001b[37m\u001b[0m \u001b[1m4s\u001b[0m 1ms/step - loss: 0.2321 - mean_absolute_error: 0.3767 - mean_squared_error: 0.2321 - val_loss: 0.3257 - val_mean_absolute_error: 0.4446 - val_mean_squared_error: 0.3257\n",
      "Epoch 49/50\n",
      "\u001b[1m4088/4088\u001b[0m \u001b[32m━━━━━━━━━━━━━━━━━━━━\u001b[0m\u001b[37m\u001b[0m \u001b[1m4s\u001b[0m 1ms/step - loss: 0.2329 - mean_absolute_error: 0.3769 - mean_squared_error: 0.2329 - val_loss: 0.3234 - val_mean_absolute_error: 0.4428 - val_mean_squared_error: 0.3234\n",
      "Epoch 50/50\n",
      "\u001b[1m4088/4088\u001b[0m \u001b[32m━━━━━━━━━━━━━━━━━━━━\u001b[0m\u001b[37m\u001b[0m \u001b[1m4s\u001b[0m 1ms/step - loss: 0.2317 - mean_absolute_error: 0.3765 - mean_squared_error: 0.2317 - val_loss: 0.3229 - val_mean_absolute_error: 0.4432 - val_mean_squared_error: 0.3229\n"
     ]
    }
   ],
   "source": [
    "initial_model = '../outputs/nn/initial_model.h5'\n",
    "\n",
    "# Check if the pre-trained model exists\n",
    "if os.path.exists(initial_model):\n",
    "    model = keras.models.load_model(initial_model)\n",
    "    print(\"Loaded pre-trained model.\")\n",
    "else:\n",
    "    # Train the model\n",
    "    history = model.fit(X_train, y_train, validation_split=0.2, epochs=50, batch_size=32, verbose=1)"
   ]
  },
  {
   "cell_type": "markdown",
   "metadata": {},
   "source": [
    "## Model Evaluation\n",
    "After training, we evaluate the model's performance on the test set to understand its effectiveness in predicting the op.gg score."
   ]
  },
  {
   "cell_type": "code",
   "execution_count": 53,
   "metadata": {},
   "outputs": [
    {
     "name": "stdout",
     "output_type": "stream",
     "text": [
      "\u001b[1m1278/1278\u001b[0m \u001b[32m━━━━━━━━━━━━━━━━━━━━\u001b[0m\u001b[37m\u001b[0m \u001b[1m1s\u001b[0m 601us/step - loss: 0.3227 - mean_absolute_error: 0.4438 - mean_squared_error: 0.3227\n"
     ]
    }
   ],
   "source": [
    "# Evaluate the model on the test data\n",
    "test_results = model.evaluate(X_test, y_test, verbose=1)"
   ]
  },
  {
   "cell_type": "markdown",
   "metadata": {},
   "source": [
    "## Performance Metrics\n",
    "We report several performance metrics such as Mean Squared Error (MSE) and R^2 score, which help us understand the accuracy and the variance explained by our model."
   ]
  },
  {
   "cell_type": "code",
   "execution_count": 54,
   "metadata": {},
   "outputs": [
    {
     "name": "stdout",
     "output_type": "stream",
     "text": [
      "\u001b[1m1278/1278\u001b[0m \u001b[32m━━━━━━━━━━━━━━━━━━━━\u001b[0m\u001b[37m\u001b[0m \u001b[1m1s\u001b[0m 902us/step\n",
      "Mean Squared Error: 0.3236540222221622\n",
      "R^2 Score: 0.9334107796293185\n"
     ]
    }
   ],
   "source": [
    "# Predictions\n",
    "y_pred = model.predict(X_test)\n",
    "\n",
    "# Calculate the mean squared error and R^2 score\n",
    "mse = mean_squared_error(y_test, y_pred)\n",
    "r2 = r2_score(y_test, y_pred)\n",
    "\n",
    "print(f\"Mean Squared Error: {mse}\")\n",
    "print(f\"R^2 Score: {r2}\")"
   ]
  },
  {
   "cell_type": "markdown",
   "metadata": {},
   "source": [
    "## Saving the Model\n",
    "We save the trained model and its weights to disk for later use in deployment or further evaluation."
   ]
  },
  {
   "cell_type": "code",
   "execution_count": 55,
   "metadata": {},
   "outputs": [
    {
     "name": "stderr",
     "output_type": "stream",
     "text": [
      "WARNING:absl:You are saving your model as an HDF5 file via `model.save()` or `keras.saving.save_model(model)`. This file format is considered legacy. We recommend using instead the native Keras format, e.g. `model.save('my_model.keras')` or `keras.saving.save_model(model, 'my_model.keras')`. \n"
     ]
    },
    {
     "name": "stdout",
     "output_type": "stream",
     "text": [
      "Model saved to ../outputs/nn\\initial_model.h5\n"
     ]
    }
   ],
   "source": [
    "# Save the model\n",
    "model_path = os.path.join(output_dir, 'initial_model.h5')\n",
    "model.save(model_path)\n",
    "print(f\"Model saved to {model_path}\")"
   ]
  },
  {
   "cell_type": "markdown",
   "metadata": {},
   "source": [
    "## Model Report\n",
    "Generate a detailed report including training history to analyze the model's learning process over epochs."
   ]
  },
  {
   "cell_type": "code",
   "execution_count": 56,
   "metadata": {},
   "outputs": [
    {
     "data": {
      "image/png": "[encoded data removed]",
      "text/plain": [
       "<Figure size 1000x500 with 2 Axes>"
      ]
     },
     "metadata": {},
     "output_type": "display_data"
    }
   ],
   "source": [
    "# Plot training history\n",
    "if 'history' in locals():\n",
    "    plt.figure(figsize=(10, 5))\n",
    "    plt.subplot(1, 2, 1)\n",
    "    plt.plot(history.history['loss'], label='Train Loss')\n",
    "    plt.plot(history.history['val_loss'], label='Validation Loss')\n",
    "    plt.title('Loss Over Epochs')\n",
    "    plt.xlabel('Epochs')\n",
    "    plt.ylabel('Loss')\n",
    "    plt.legend()\n",
    "\n",
    "    plt.subplot(1, 2, 2)\n",
    "    plt.plot(history.history['mean_squared_error'], label='Train MSE')\n",
    "    plt.plot(history.history['val_mean_squared_error'], label='Validation MSE')\n",
    "    plt.title('MSE Over Epochs')\n",
    "    plt.xlabel('Epochs')\n",
    "    plt.ylabel('Mean Squared Error')\n",
    "    plt.legend()\n",
    "\n",
    "    plt.tight_layout()\n",
    "    plt.show()"
   ]
  },
  {
   "cell_type": "markdown",
   "metadata": {},
   "source": [
    "## Advanced Model Definition\n",
    "In this section, we create a comprehensive neural network that processes different feature types and their interactions, particularly focusing on the systematic effect of game length on performance metrics before making predictions."
   ]
  },
  {
   "cell_type": "code",
   "execution_count": 57,
   "metadata": {},
   "outputs": [
    {
     "data": {
      "text/html": [
       "<pre style=\"white-space:pre;overflow-x:auto;line-height:normal;font-family:Menlo,'DejaVu Sans Mono',consolas,'Courier New',monospace\"><span style=\"font-weight: bold\">Model: \"functional_20\"</span>\n",
       "</pre>\n"
      ],
      "text/plain": [
       "\u001b[1mModel: \"functional_20\"\u001b[0m\n"
      ]
     },
     "metadata": {},
     "output_type": "display_data"
    },
    {
     "data": {
      "text/html": [
       "<pre style=\"white-space:pre;overflow-x:auto;line-height:normal;font-family:Menlo,'DejaVu Sans Mono',consolas,'Courier New',monospace\">┏━━━━━━━━━━━━━━━━━━━━━┳━━━━━━━━━━━━━━━━━━━┳━━━━━━━━━━━━┳━━━━━━━━━━━━━━━━━━━┓\n",
       "┃<span style=\"font-weight: bold\"> Layer (type)        </span>┃<span style=\"font-weight: bold\"> Output Shape      </span>┃<span style=\"font-weight: bold\">    Param # </span>┃<span style=\"font-weight: bold\"> Connected to      </span>┃\n",
       "┡━━━━━━━━━━━━━━━━━━━━━╇━━━━━━━━━━━━━━━━━━━╇━━━━━━━━━━━━╇━━━━━━━━━━━━━━━━━━━┩\n",
       "│ input_length        │ (<span style=\"color: #00d7ff; text-decoration-color: #00d7ff\">None</span>, <span style=\"color: #00af00; text-decoration-color: #00af00\">1</span>)         │          <span style=\"color: #00af00; text-decoration-color: #00af00\">0</span> │ -                 │\n",
       "│ (<span style=\"color: #0087ff; text-decoration-color: #0087ff\">InputLayer</span>)        │                   │            │                   │\n",
       "├─────────────────────┼───────────────────┼────────────┼───────────────────┤\n",
       "│ input_performance   │ (<span style=\"color: #00d7ff; text-decoration-color: #00d7ff\">None</span>, <span style=\"color: #00af00; text-decoration-color: #00af00\">210</span>)       │          <span style=\"color: #00af00; text-decoration-color: #00af00\">0</span> │ -                 │\n",
       "│ (<span style=\"color: #0087ff; text-decoration-color: #0087ff\">InputLayer</span>)        │                   │            │                   │\n",
       "├─────────────────────┼───────────────────┼────────────┼───────────────────┤\n",
       "│ dense_27 (<span style=\"color: #0087ff; text-decoration-color: #0087ff\">Dense</span>)    │ (<span style=\"color: #00d7ff; text-decoration-color: #00d7ff\">None</span>, <span style=\"color: #00af00; text-decoration-color: #00af00\">16</span>)        │         <span style=\"color: #00af00; text-decoration-color: #00af00\">32</span> │ input_length[<span style=\"color: #00af00; text-decoration-color: #00af00\">0</span>][<span style=\"color: #00af00; text-decoration-color: #00af00\">…</span> │\n",
       "├─────────────────────┼───────────────────┼────────────┼───────────────────┤\n",
       "│ dense_28 (<span style=\"color: #0087ff; text-decoration-color: #0087ff\">Dense</span>)    │ (<span style=\"color: #00d7ff; text-decoration-color: #00d7ff\">None</span>, <span style=\"color: #00af00; text-decoration-color: #00af00\">128</span>)       │     <span style=\"color: #00af00; text-decoration-color: #00af00\">27,008</span> │ input_performanc… │\n",
       "├─────────────────────┼───────────────────┼────────────┼───────────────────┤\n",
       "│ batch_normalizatio… │ (<span style=\"color: #00d7ff; text-decoration-color: #00d7ff\">None</span>, <span style=\"color: #00af00; text-decoration-color: #00af00\">16</span>)        │         <span style=\"color: #00af00; text-decoration-color: #00af00\">64</span> │ dense_27[<span style=\"color: #00af00; text-decoration-color: #00af00\">0</span>][<span style=\"color: #00af00; text-decoration-color: #00af00\">0</span>]    │\n",
       "│ (<span style=\"color: #0087ff; text-decoration-color: #0087ff\">BatchNormalizatio…</span> │                   │            │                   │\n",
       "├─────────────────────┼───────────────────┼────────────┼───────────────────┤\n",
       "│ batch_normalizatio… │ (<span style=\"color: #00d7ff; text-decoration-color: #00d7ff\">None</span>, <span style=\"color: #00af00; text-decoration-color: #00af00\">128</span>)       │        <span style=\"color: #00af00; text-decoration-color: #00af00\">512</span> │ dense_28[<span style=\"color: #00af00; text-decoration-color: #00af00\">0</span>][<span style=\"color: #00af00; text-decoration-color: #00af00\">0</span>]    │\n",
       "│ (<span style=\"color: #0087ff; text-decoration-color: #0087ff\">BatchNormalizatio…</span> │                   │            │                   │\n",
       "├─────────────────────┼───────────────────┼────────────┼───────────────────┤\n",
       "│ dropout_3 (<span style=\"color: #0087ff; text-decoration-color: #0087ff\">Dropout</span>) │ (<span style=\"color: #00d7ff; text-decoration-color: #00d7ff\">None</span>, <span style=\"color: #00af00; text-decoration-color: #00af00\">16</span>)        │          <span style=\"color: #00af00; text-decoration-color: #00af00\">0</span> │ batch_normalizat… │\n",
       "├─────────────────────┼───────────────────┼────────────┼───────────────────┤\n",
       "│ dropout_4 (<span style=\"color: #0087ff; text-decoration-color: #0087ff\">Dropout</span>) │ (<span style=\"color: #00d7ff; text-decoration-color: #00d7ff\">None</span>, <span style=\"color: #00af00; text-decoration-color: #00af00\">128</span>)       │          <span style=\"color: #00af00; text-decoration-color: #00af00\">0</span> │ batch_normalizat… │\n",
       "├─────────────────────┼───────────────────┼────────────┼───────────────────┤\n",
       "│ concatenate_3       │ (<span style=\"color: #00d7ff; text-decoration-color: #00d7ff\">None</span>, <span style=\"color: #00af00; text-decoration-color: #00af00\">144</span>)       │          <span style=\"color: #00af00; text-decoration-color: #00af00\">0</span> │ dropout_3[<span style=\"color: #00af00; text-decoration-color: #00af00\">0</span>][<span style=\"color: #00af00; text-decoration-color: #00af00\">0</span>],  │\n",
       "│ (<span style=\"color: #0087ff; text-decoration-color: #0087ff\">Concatenate</span>)       │                   │            │ dropout_4[<span style=\"color: #00af00; text-decoration-color: #00af00\">0</span>][<span style=\"color: #00af00; text-decoration-color: #00af00\">0</span>]   │\n",
       "├─────────────────────┼───────────────────┼────────────┼───────────────────┤\n",
       "│ dense_29 (<span style=\"color: #0087ff; text-decoration-color: #0087ff\">Dense</span>)    │ (<span style=\"color: #00d7ff; text-decoration-color: #00d7ff\">None</span>, <span style=\"color: #00af00; text-decoration-color: #00af00\">64</span>)        │      <span style=\"color: #00af00; text-decoration-color: #00af00\">9,280</span> │ concatenate_3[<span style=\"color: #00af00; text-decoration-color: #00af00\">0</span>]… │\n",
       "├─────────────────────┼───────────────────┼────────────┼───────────────────┤\n",
       "│ batch_normalizatio… │ (<span style=\"color: #00d7ff; text-decoration-color: #00d7ff\">None</span>, <span style=\"color: #00af00; text-decoration-color: #00af00\">64</span>)        │        <span style=\"color: #00af00; text-decoration-color: #00af00\">256</span> │ dense_29[<span style=\"color: #00af00; text-decoration-color: #00af00\">0</span>][<span style=\"color: #00af00; text-decoration-color: #00af00\">0</span>]    │\n",
       "│ (<span style=\"color: #0087ff; text-decoration-color: #0087ff\">BatchNormalizatio…</span> │                   │            │                   │\n",
       "├─────────────────────┼───────────────────┼────────────┼───────────────────┤\n",
       "│ dropout_5 (<span style=\"color: #0087ff; text-decoration-color: #0087ff\">Dropout</span>) │ (<span style=\"color: #00d7ff; text-decoration-color: #00d7ff\">None</span>, <span style=\"color: #00af00; text-decoration-color: #00af00\">64</span>)        │          <span style=\"color: #00af00; text-decoration-color: #00af00\">0</span> │ batch_normalizat… │\n",
       "├─────────────────────┼───────────────────┼────────────┼───────────────────┤\n",
       "│ dense_30 (<span style=\"color: #0087ff; text-decoration-color: #0087ff\">Dense</span>)    │ (<span style=\"color: #00d7ff; text-decoration-color: #00d7ff\">None</span>, <span style=\"color: #00af00; text-decoration-color: #00af00\">32</span>)        │      <span style=\"color: #00af00; text-decoration-color: #00af00\">2,080</span> │ dropout_5[<span style=\"color: #00af00; text-decoration-color: #00af00\">0</span>][<span style=\"color: #00af00; text-decoration-color: #00af00\">0</span>]   │\n",
       "├─────────────────────┼───────────────────┼────────────┼───────────────────┤\n",
       "│ dense_31 (<span style=\"color: #0087ff; text-decoration-color: #0087ff\">Dense</span>)    │ (<span style=\"color: #00d7ff; text-decoration-color: #00d7ff\">None</span>, <span style=\"color: #00af00; text-decoration-color: #00af00\">1</span>)         │         <span style=\"color: #00af00; text-decoration-color: #00af00\">33</span> │ dense_30[<span style=\"color: #00af00; text-decoration-color: #00af00\">0</span>][<span style=\"color: #00af00; text-decoration-color: #00af00\">0</span>]    │\n",
       "└─────────────────────┴───────────────────┴────────────┴───────────────────┘\n",
       "</pre>\n"
      ],
      "text/plain": [
       "┏━━━━━━━━━━━━━━━━━━━━━┳━━━━━━━━━━━━━━━━━━━┳━━━━━━━━━━━━┳━━━━━━━━━━━━━━━━━━━┓\n",
       "┃\u001b[1m \u001b[0m\u001b[1mLayer (type)       \u001b[0m\u001b[1m \u001b[0m┃\u001b[1m \u001b[0m\u001b[1mOutput Shape     \u001b[0m\u001b[1m \u001b[0m┃\u001b[1m \u001b[0m\u001b[1m   Param #\u001b[0m\u001b[1m \u001b[0m┃\u001b[1m \u001b[0m\u001b[1mConnected to     \u001b[0m\u001b[1m \u001b[0m┃\n",
       "┡━━━━━━━━━━━━━━━━━━━━━╇━━━━━━━━━━━━━━━━━━━╇━━━━━━━━━━━━╇━━━━━━━━━━━━━━━━━━━┩\n",
       "│ input_length        │ (\u001b[38;5;45mNone\u001b[0m, \u001b[38;5;34m1\u001b[0m)         │          \u001b[38;5;34m0\u001b[0m │ -                 │\n",
       "│ (\u001b[38;5;33mInputLayer\u001b[0m)        │                   │            │                   │\n",
       "├─────────────────────┼───────────────────┼────────────┼───────────────────┤\n",
       "│ input_performance   │ (\u001b[38;5;45mNone\u001b[0m, \u001b[38;5;34m210\u001b[0m)       │          \u001b[38;5;34m0\u001b[0m │ -                 │\n",
       "│ (\u001b[38;5;33mInputLayer\u001b[0m)        │                   │            │                   │\n",
       "├─────────────────────┼───────────────────┼────────────┼───────────────────┤\n",
       "│ dense_27 (\u001b[38;5;33mDense\u001b[0m)    │ (\u001b[38;5;45mNone\u001b[0m, \u001b[38;5;34m16\u001b[0m)        │         \u001b[38;5;34m32\u001b[0m │ input_length[\u001b[38;5;34m0\u001b[0m][\u001b[38;5;34m…\u001b[0m │\n",
       "├─────────────────────┼───────────────────┼────────────┼───────────────────┤\n",
       "│ dense_28 (\u001b[38;5;33mDense\u001b[0m)    │ (\u001b[38;5;45mNone\u001b[0m, \u001b[38;5;34m128\u001b[0m)       │     \u001b[38;5;34m27,008\u001b[0m │ input_performanc… │\n",
       "├─────────────────────┼───────────────────┼────────────┼───────────────────┤\n",
       "│ batch_normalizatio… │ (\u001b[38;5;45mNone\u001b[0m, \u001b[38;5;34m16\u001b[0m)        │         \u001b[38;5;34m64\u001b[0m │ dense_27[\u001b[38;5;34m0\u001b[0m][\u001b[38;5;34m0\u001b[0m]    │\n",
       "│ (\u001b[38;5;33mBatchNormalizatio…\u001b[0m │                   │            │                   │\n",
       "├─────────────────────┼───────────────────┼────────────┼───────────────────┤\n",
       "│ batch_normalizatio… │ (\u001b[38;5;45mNone\u001b[0m, \u001b[38;5;34m128\u001b[0m)       │        \u001b[38;5;34m512\u001b[0m │ dense_28[\u001b[38;5;34m0\u001b[0m][\u001b[38;5;34m0\u001b[0m]    │\n",
       "│ (\u001b[38;5;33mBatchNormalizatio…\u001b[0m │                   │            │                   │\n",
       "├─────────────────────┼───────────────────┼────────────┼───────────────────┤\n",
       "│ dropout_3 (\u001b[38;5;33mDropout\u001b[0m) │ (\u001b[38;5;45mNone\u001b[0m, \u001b[38;5;34m16\u001b[0m)        │          \u001b[38;5;34m0\u001b[0m │ batch_normalizat… │\n",
       "├─────────────────────┼───────────────────┼────────────┼───────────────────┤\n",
       "│ dropout_4 (\u001b[38;5;33mDropout\u001b[0m) │ (\u001b[38;5;45mNone\u001b[0m, \u001b[38;5;34m128\u001b[0m)       │          \u001b[38;5;34m0\u001b[0m │ batch_normalizat… │\n",
       "├─────────────────────┼───────────────────┼────────────┼───────────────────┤\n",
       "│ concatenate_3       │ (\u001b[38;5;45mNone\u001b[0m, \u001b[38;5;34m144\u001b[0m)       │          \u001b[38;5;34m0\u001b[0m │ dropout_3[\u001b[38;5;34m0\u001b[0m][\u001b[38;5;34m0\u001b[0m],  │\n",
       "│ (\u001b[38;5;33mConcatenate\u001b[0m)       │                   │            │ dropout_4[\u001b[38;5;34m0\u001b[0m][\u001b[38;5;34m0\u001b[0m]   │\n",
       "├─────────────────────┼───────────────────┼────────────┼───────────────────┤\n",
       "│ dense_29 (\u001b[38;5;33mDense\u001b[0m)    │ (\u001b[38;5;45mNone\u001b[0m, \u001b[38;5;34m64\u001b[0m)        │      \u001b[38;5;34m9,280\u001b[0m │ concatenate_3[\u001b[38;5;34m0\u001b[0m]… │\n",
       "├─────────────────────┼───────────────────┼────────────┼───────────────────┤\n",
       "│ batch_normalizatio… │ (\u001b[38;5;45mNone\u001b[0m, \u001b[38;5;34m64\u001b[0m)        │        \u001b[38;5;34m256\u001b[0m │ dense_29[\u001b[38;5;34m0\u001b[0m][\u001b[38;5;34m0\u001b[0m]    │\n",
       "│ (\u001b[38;5;33mBatchNormalizatio…\u001b[0m │                   │            │                   │\n",
       "├─────────────────────┼───────────────────┼────────────┼───────────────────┤\n",
       "│ dropout_5 (\u001b[38;5;33mDropout\u001b[0m) │ (\u001b[38;5;45mNone\u001b[0m, \u001b[38;5;34m64\u001b[0m)        │          \u001b[38;5;34m0\u001b[0m │ batch_normalizat… │\n",
       "├─────────────────────┼───────────────────┼────────────┼───────────────────┤\n",
       "│ dense_30 (\u001b[38;5;33mDense\u001b[0m)    │ (\u001b[38;5;45mNone\u001b[0m, \u001b[38;5;34m32\u001b[0m)        │      \u001b[38;5;34m2,080\u001b[0m │ dropout_5[\u001b[38;5;34m0\u001b[0m][\u001b[38;5;34m0\u001b[0m]   │\n",
       "├─────────────────────┼───────────────────┼────────────┼───────────────────┤\n",
       "│ dense_31 (\u001b[38;5;33mDense\u001b[0m)    │ (\u001b[38;5;45mNone\u001b[0m, \u001b[38;5;34m1\u001b[0m)         │         \u001b[38;5;34m33\u001b[0m │ dense_30[\u001b[38;5;34m0\u001b[0m][\u001b[38;5;34m0\u001b[0m]    │\n",
       "└─────────────────────┴───────────────────┴────────────┴───────────────────┘\n"
      ]
     },
     "metadata": {},
     "output_type": "display_data"
    },
    {
     "data": {
      "text/html": [
       "<pre style=\"white-space:pre;overflow-x:auto;line-height:normal;font-family:Menlo,'DejaVu Sans Mono',consolas,'Courier New',monospace\"><span style=\"font-weight: bold\"> Total params: </span><span style=\"color: #00af00; text-decoration-color: #00af00\">39,265</span> (153.38 KB)\n",
       "</pre>\n"
      ],
      "text/plain": [
       "\u001b[1m Total params: \u001b[0m\u001b[38;5;34m39,265\u001b[0m (153.38 KB)\n"
      ]
     },
     "metadata": {},
     "output_type": "display_data"
    },
    {
     "data": {
      "text/html": [
       "<pre style=\"white-space:pre;overflow-x:auto;line-height:normal;font-family:Menlo,'DejaVu Sans Mono',consolas,'Courier New',monospace\"><span style=\"font-weight: bold\"> Trainable params: </span><span style=\"color: #00af00; text-decoration-color: #00af00\">38,849</span> (151.75 KB)\n",
       "</pre>\n"
      ],
      "text/plain": [
       "\u001b[1m Trainable params: \u001b[0m\u001b[38;5;34m38,849\u001b[0m (151.75 KB)\n"
      ]
     },
     "metadata": {},
     "output_type": "display_data"
    },
    {
     "data": {
      "text/html": [
       "<pre style=\"white-space:pre;overflow-x:auto;line-height:normal;font-family:Menlo,'DejaVu Sans Mono',consolas,'Courier New',monospace\"><span style=\"font-weight: bold\"> Non-trainable params: </span><span style=\"color: #00af00; text-decoration-color: #00af00\">416</span> (1.62 KB)\n",
       "</pre>\n"
      ],
      "text/plain": [
       "\u001b[1m Non-trainable params: \u001b[0m\u001b[38;5;34m416\u001b[0m (1.62 KB)\n"
      ]
     },
     "metadata": {},
     "output_type": "display_data"
    }
   ],
   "source": [
    "# Input layers\n",
    "input_length = keras.layers.Input(shape=(1,), name='input_length')  # Game length feature\n",
    "input_perf = keras.layers.Input(shape=(X_train.shape[1]-1,), name='input_performance')  # Performance features\n",
    "\n",
    "# Subnetwork for game length\n",
    "length_network = keras.layers.Dense(16, activation='relu')(input_length)\n",
    "length_network = keras.layers.BatchNormalization()(length_network)\n",
    "length_network = keras.layers.Dropout(0.2)(length_network)\n",
    "\n",
    "# Subnetwork for performance features\n",
    "perf_network = keras.layers.Dense(128, activation='relu')(input_perf)\n",
    "perf_network = keras.layers.BatchNormalization()(perf_network)\n",
    "perf_network = keras.layers.Dropout(0.2)(perf_network)\n",
    "\n",
    "# Combine both subnetworks\n",
    "combined = keras.layers.Concatenate()([length_network, perf_network])\n",
    "\n",
    "# More layers after combining\n",
    "combined = keras.layers.Dense(64, activation='relu')(combined)\n",
    "combined = keras.layers.BatchNormalization()(combined)\n",
    "combined = keras.layers.Dropout(0.3)(combined)\n",
    "combined = keras.layers.Dense(32, activation='relu')(combined)\n",
    "output = keras.layers.Dense(1)(combined)\n",
    "\n",
    "# Build the model\n",
    "model = keras.models. Model(inputs=[input_length, input_perf], outputs=output)\n",
    "model.compile(optimizer='adam', loss='mean_squared_error', metrics=['mean_squared_error', 'mean_absolute_error'])\n",
    "\n",
    "# Model summary\n",
    "model.summary()\n"
   ]
  },
  {
   "cell_type": "markdown",
   "metadata": {},
   "source": [
    "## Training the Advanced Model\n",
    "Here, we train our advanced model using both the game length and performance features."
   ]
  },
  {
   "cell_type": "code",
   "execution_count": 58,
   "metadata": {},
   "outputs": [
    {
     "name": "stdout",
     "output_type": "stream",
     "text": [
      "Epoch 1/50\n",
      "\u001b[1m4088/4088\u001b[0m \u001b[32m━━━━━━━━━━━━━━━━━━━━\u001b[0m\u001b[37m\u001b[0m \u001b[1m9s\u001b[0m 2ms/step - loss: 2.4342 - mean_absolute_error: 1.0831 - mean_squared_error: 2.4342 - val_loss: 0.4664 - val_mean_absolute_error: 0.5409 - val_mean_squared_error: 0.4664\n",
      "Epoch 2/50\n",
      "\u001b[1m4088/4088\u001b[0m \u001b[32m━━━━━━━━━━━━━━━━━━━━\u001b[0m\u001b[37m\u001b[0m \u001b[1m6s\u001b[0m 2ms/step - loss: 0.6520 - mean_absolute_error: 0.6312 - mean_squared_error: 0.6520 - val_loss: 0.4516 - val_mean_absolute_error: 0.5262 - val_mean_squared_error: 0.4516\n",
      "Epoch 3/50\n",
      "\u001b[1m4088/4088\u001b[0m \u001b[32m━━━━━━━━━━━━━━━━━━━━\u001b[0m\u001b[37m\u001b[0m \u001b[1m7s\u001b[0m 2ms/step - loss: 0.5231 - mean_absolute_error: 0.5665 - mean_squared_error: 0.5231 - val_loss: 0.3557 - val_mean_absolute_error: 0.4679 - val_mean_squared_error: 0.3557\n",
      "Epoch 4/50\n",
      "\u001b[1m4088/4088\u001b[0m \u001b[32m━━━━━━━━━━━━━━━━━━━━\u001b[0m\u001b[37m\u001b[0m \u001b[1m7s\u001b[0m 2ms/step - loss: 0.4562 - mean_absolute_error: 0.5313 - mean_squared_error: 0.4562 - val_loss: 0.3778 - val_mean_absolute_error: 0.4825 - val_mean_squared_error: 0.3778\n",
      "Epoch 5/50\n",
      "\u001b[1m4088/4088\u001b[0m \u001b[32m━━━━━━━━━━━━━━━━━━━━\u001b[0m\u001b[37m\u001b[0m \u001b[1m7s\u001b[0m 2ms/step - loss: 0.4310 - mean_absolute_error: 0.5166 - mean_squared_error: 0.4310 - val_loss: 0.3350 - val_mean_absolute_error: 0.4563 - val_mean_squared_error: 0.3350\n",
      "Epoch 6/50\n",
      "\u001b[1m4088/4088\u001b[0m \u001b[32m━━━━━━━━━━━━━━━━━━━━\u001b[0m\u001b[37m\u001b[0m \u001b[1m7s\u001b[0m 2ms/step - loss: 0.4124 - mean_absolute_error: 0.5045 - mean_squared_error: 0.4124 - val_loss: 0.3329 - val_mean_absolute_error: 0.4554 - val_mean_squared_error: 0.3329\n",
      "Epoch 7/50\n",
      "\u001b[1m4088/4088\u001b[0m \u001b[32m━━━━━━━━━━━━━━━━━━━━\u001b[0m\u001b[37m\u001b[0m \u001b[1m7s\u001b[0m 2ms/step - loss: 0.4008 - mean_absolute_error: 0.4972 - mean_squared_error: 0.4008 - val_loss: 0.3187 - val_mean_absolute_error: 0.4453 - val_mean_squared_error: 0.3187\n",
      "Epoch 8/50\n",
      "\u001b[1m4088/4088\u001b[0m \u001b[32m━━━━━━━━━━━━━━━━━━━━\u001b[0m\u001b[37m\u001b[0m \u001b[1m7s\u001b[0m 2ms/step - loss: 0.3911 - mean_absolute_error: 0.4910 - mean_squared_error: 0.3911 - val_loss: 0.3170 - val_mean_absolute_error: 0.4438 - val_mean_squared_error: 0.3170\n",
      "Epoch 9/50\n",
      "\u001b[1m4088/4088\u001b[0m \u001b[32m━━━━━━━━━━━━━━━━━━━━\u001b[0m\u001b[37m\u001b[0m \u001b[1m6s\u001b[0m 2ms/step - loss: 0.3865 - mean_absolute_error: 0.4892 - mean_squared_error: 0.3865 - val_loss: 0.3146 - val_mean_absolute_error: 0.4408 - val_mean_squared_error: 0.3146\n",
      "Epoch 10/50\n",
      "\u001b[1m4088/4088\u001b[0m \u001b[32m━━━━━━━━━━━━━━━━━━━━\u001b[0m\u001b[37m\u001b[0m \u001b[1m7s\u001b[0m 2ms/step - loss: 0.3802 - mean_absolute_error: 0.4845 - mean_squared_error: 0.3802 - val_loss: 0.3189 - val_mean_absolute_error: 0.4436 - val_mean_squared_error: 0.3189\n",
      "Epoch 11/50\n",
      "\u001b[1m4088/4088\u001b[0m \u001b[32m━━━━━━━━━━━━━━━━━━━━\u001b[0m\u001b[37m\u001b[0m \u001b[1m7s\u001b[0m 2ms/step - loss: 0.3739 - mean_absolute_error: 0.4800 - mean_squared_error: 0.3739 - val_loss: 0.3131 - val_mean_absolute_error: 0.4396 - val_mean_squared_error: 0.3131\n",
      "Epoch 12/50\n",
      "\u001b[1m4088/4088\u001b[0m \u001b[32m━━━━━━━━━━━━━━━━━━━━\u001b[0m\u001b[37m\u001b[0m \u001b[1m6s\u001b[0m 2ms/step - loss: 0.3675 - mean_absolute_error: 0.4762 - mean_squared_error: 0.3675 - val_loss: 0.3367 - val_mean_absolute_error: 0.4569 - val_mean_squared_error: 0.3367\n",
      "Epoch 13/50\n",
      "\u001b[1m4088/4088\u001b[0m \u001b[32m━━━━━━━━━━━━━━━━━━━━\u001b[0m\u001b[37m\u001b[0m \u001b[1m6s\u001b[0m 2ms/step - loss: 0.3682 - mean_absolute_error: 0.4750 - mean_squared_error: 0.3682 - val_loss: 0.3294 - val_mean_absolute_error: 0.4543 - val_mean_squared_error: 0.3294\n",
      "Epoch 14/50\n",
      "\u001b[1m4088/4088\u001b[0m \u001b[32m━━━━━━━━━━━━━━━━━━━━\u001b[0m\u001b[37m\u001b[0m \u001b[1m7s\u001b[0m 2ms/step - loss: 0.3646 - mean_absolute_error: 0.4740 - mean_squared_error: 0.3646 - val_loss: 0.3350 - val_mean_absolute_error: 0.4553 - val_mean_squared_error: 0.3350\n",
      "Epoch 15/50\n",
      "\u001b[1m4088/4088\u001b[0m \u001b[32m━━━━━━━━━━━━━━━━━━━━\u001b[0m\u001b[37m\u001b[0m \u001b[1m7s\u001b[0m 2ms/step - loss: 0.3618 - mean_absolute_error: 0.4724 - mean_squared_error: 0.3618 - val_loss: 0.3059 - val_mean_absolute_error: 0.4331 - val_mean_squared_error: 0.3059\n",
      "Epoch 16/50\n",
      "\u001b[1m4088/4088\u001b[0m \u001b[32m━━━━━━━━━━━━━━━━━━━━\u001b[0m\u001b[37m\u001b[0m \u001b[1m6s\u001b[0m 2ms/step - loss: 0.3559 - mean_absolute_error: 0.4680 - mean_squared_error: 0.3559 - val_loss: 0.3280 - val_mean_absolute_error: 0.4521 - val_mean_squared_error: 0.3280\n",
      "Epoch 17/50\n",
      "\u001b[1m4088/4088\u001b[0m \u001b[32m━━━━━━━━━━━━━━━━━━━━\u001b[0m\u001b[37m\u001b[0m \u001b[1m6s\u001b[0m 2ms/step - loss: 0.3579 - mean_absolute_error: 0.4693 - mean_squared_error: 0.3579 - val_loss: 0.3213 - val_mean_absolute_error: 0.4455 - val_mean_squared_error: 0.3213\n",
      "Epoch 18/50\n",
      "\u001b[1m4088/4088\u001b[0m \u001b[32m━━━━━━━━━━━━━━━━━━━━\u001b[0m\u001b[37m\u001b[0m \u001b[1m6s\u001b[0m 2ms/step - loss: 0.3552 - mean_absolute_error: 0.4679 - mean_squared_error: 0.3552 - val_loss: 0.3254 - val_mean_absolute_error: 0.4508 - val_mean_squared_error: 0.3254\n",
      "Epoch 19/50\n",
      "\u001b[1m4088/4088\u001b[0m \u001b[32m━━━━━━━━━━━━━━━━━━━━\u001b[0m\u001b[37m\u001b[0m \u001b[1m6s\u001b[0m 2ms/step - loss: 0.3534 - mean_absolute_error: 0.4672 - mean_squared_error: 0.3534 - val_loss: 0.3143 - val_mean_absolute_error: 0.4419 - val_mean_squared_error: 0.3143\n",
      "Epoch 20/50\n",
      "\u001b[1m4088/4088\u001b[0m \u001b[32m━━━━━━━━━━━━━━━━━━━━\u001b[0m\u001b[37m\u001b[0m \u001b[1m6s\u001b[0m 2ms/step - loss: 0.3523 - mean_absolute_error: 0.4659 - mean_squared_error: 0.3523 - val_loss: 0.3094 - val_mean_absolute_error: 0.4386 - val_mean_squared_error: 0.3094\n",
      "Epoch 21/50\n",
      "\u001b[1m4088/4088\u001b[0m \u001b[32m━━━━━━━━━━━━━━━━━━━━\u001b[0m\u001b[37m\u001b[0m \u001b[1m7s\u001b[0m 2ms/step - loss: 0.3467 - mean_absolute_error: 0.4622 - mean_squared_error: 0.3467 - val_loss: 0.3378 - val_mean_absolute_error: 0.4587 - val_mean_squared_error: 0.3378\n",
      "Epoch 22/50\n",
      "\u001b[1m4088/4088\u001b[0m \u001b[32m━━━━━━━━━━━━━━━━━━━━\u001b[0m\u001b[37m\u001b[0m \u001b[1m6s\u001b[0m 2ms/step - loss: 0.3442 - mean_absolute_error: 0.4599 - mean_squared_error: 0.3442 - val_loss: 0.3144 - val_mean_absolute_error: 0.4434 - val_mean_squared_error: 0.3144\n",
      "Epoch 23/50\n",
      "\u001b[1m4088/4088\u001b[0m \u001b[32m━━━━━━━━━━━━━━━━━━━━\u001b[0m\u001b[37m\u001b[0m \u001b[1m6s\u001b[0m 2ms/step - loss: 0.3445 - mean_absolute_error: 0.4602 - mean_squared_error: 0.3445 - val_loss: 0.3128 - val_mean_absolute_error: 0.4421 - val_mean_squared_error: 0.3128\n",
      "Epoch 24/50\n",
      "\u001b[1m4088/4088\u001b[0m \u001b[32m━━━━━━━━━━━━━━━━━━━━\u001b[0m\u001b[37m\u001b[0m \u001b[1m7s\u001b[0m 2ms/step - loss: 0.3401 - mean_absolute_error: 0.4575 - mean_squared_error: 0.3401 - val_loss: 0.3051 - val_mean_absolute_error: 0.4338 - val_mean_squared_error: 0.3051\n",
      "Epoch 25/50\n",
      "\u001b[1m4088/4088\u001b[0m \u001b[32m━━━━━━━━━━━━━━━━━━━━\u001b[0m\u001b[37m\u001b[0m \u001b[1m7s\u001b[0m 2ms/step - loss: 0.3408 - mean_absolute_error: 0.4583 - mean_squared_error: 0.3408 - val_loss: 0.3227 - val_mean_absolute_error: 0.4477 - val_mean_squared_error: 0.3227\n",
      "Epoch 26/50\n",
      "\u001b[1m4088/4088\u001b[0m \u001b[32m━━━━━━━━━━━━━━━━━━━━\u001b[0m\u001b[37m\u001b[0m \u001b[1m7s\u001b[0m 2ms/step - loss: 0.3420 - mean_absolute_error: 0.4587 - mean_squared_error: 0.3420 - val_loss: 0.3036 - val_mean_absolute_error: 0.4319 - val_mean_squared_error: 0.3036\n",
      "Epoch 27/50\n",
      "\u001b[1m4088/4088\u001b[0m \u001b[32m━━━━━━━━━━━━━━━━━━━━\u001b[0m\u001b[37m\u001b[0m \u001b[1m7s\u001b[0m 2ms/step - loss: 0.3386 - mean_absolute_error: 0.4558 - mean_squared_error: 0.3386 - val_loss: 0.3077 - val_mean_absolute_error: 0.4350 - val_mean_squared_error: 0.3077\n",
      "Epoch 28/50\n",
      "\u001b[1m4088/4088\u001b[0m \u001b[32m━━━━━━━━━━━━━━━━━━━━\u001b[0m\u001b[37m\u001b[0m \u001b[1m6s\u001b[0m 2ms/step - loss: 0.3380 - mean_absolute_error: 0.4557 - mean_squared_error: 0.3380 - val_loss: 0.3069 - val_mean_absolute_error: 0.4348 - val_mean_squared_error: 0.3069\n",
      "Epoch 29/50\n",
      "\u001b[1m4088/4088\u001b[0m \u001b[32m━━━━━━━━━━━━━━━━━━━━\u001b[0m\u001b[37m\u001b[0m \u001b[1m6s\u001b[0m 2ms/step - loss: 0.3380 - mean_absolute_error: 0.4558 - mean_squared_error: 0.3380 - val_loss: 0.3212 - val_mean_absolute_error: 0.4445 - val_mean_squared_error: 0.3212\n",
      "Epoch 30/50\n",
      "\u001b[1m4088/4088\u001b[0m \u001b[32m━━━━━━━━━━━━━━━━━━━━\u001b[0m\u001b[37m\u001b[0m \u001b[1m6s\u001b[0m 2ms/step - loss: 0.3352 - mean_absolute_error: 0.4541 - mean_squared_error: 0.3352 - val_loss: 0.3243 - val_mean_absolute_error: 0.4463 - val_mean_squared_error: 0.3243\n",
      "Epoch 31/50\n",
      "\u001b[1m4088/4088\u001b[0m \u001b[32m━━━━━━━━━━━━━━━━━━━━\u001b[0m\u001b[37m\u001b[0m \u001b[1m7s\u001b[0m 2ms/step - loss: 0.3343 - mean_absolute_error: 0.4534 - mean_squared_error: 0.3343 - val_loss: 0.3165 - val_mean_absolute_error: 0.4430 - val_mean_squared_error: 0.3165\n",
      "Epoch 32/50\n",
      "\u001b[1m4088/4088\u001b[0m \u001b[32m━━━━━━━━━━━━━━━━━━━━\u001b[0m\u001b[37m\u001b[0m \u001b[1m7s\u001b[0m 2ms/step - loss: 0.3364 - mean_absolute_error: 0.4548 - mean_squared_error: 0.3364 - val_loss: 0.3111 - val_mean_absolute_error: 0.4378 - val_mean_squared_error: 0.3111\n",
      "Epoch 33/50\n",
      "\u001b[1m4088/4088\u001b[0m \u001b[32m━━━━━━━━━━━━━━━━━━━━\u001b[0m\u001b[37m\u001b[0m \u001b[1m6s\u001b[0m 2ms/step - loss: 0.3353 - mean_absolute_error: 0.4540 - mean_squared_error: 0.3353 - val_loss: 0.3110 - val_mean_absolute_error: 0.4389 - val_mean_squared_error: 0.3110\n",
      "Epoch 34/50\n",
      "\u001b[1m4088/4088\u001b[0m \u001b[32m━━━━━━━━━━━━━━━━━━━━\u001b[0m\u001b[37m\u001b[0m \u001b[1m6s\u001b[0m 2ms/step - loss: 0.3342 - mean_absolute_error: 0.4528 - mean_squared_error: 0.3342 - val_loss: 0.3238 - val_mean_absolute_error: 0.4474 - val_mean_squared_error: 0.3238\n",
      "Epoch 35/50\n",
      "\u001b[1m4088/4088\u001b[0m \u001b[32m━━━━━━━━━━━━━━━━━━━━\u001b[0m\u001b[37m\u001b[0m \u001b[1m6s\u001b[0m 2ms/step - loss: 0.3340 - mean_absolute_error: 0.4527 - mean_squared_error: 0.3340 - val_loss: 0.3273 - val_mean_absolute_error: 0.4486 - val_mean_squared_error: 0.3273\n",
      "Epoch 36/50\n",
      "\u001b[1m4088/4088\u001b[0m \u001b[32m━━━━━━━━━━━━━━━━━━━━\u001b[0m\u001b[37m\u001b[0m \u001b[1m6s\u001b[0m 2ms/step - loss: 0.3355 - mean_absolute_error: 0.4540 - mean_squared_error: 0.3355 - val_loss: 0.3150 - val_mean_absolute_error: 0.4422 - val_mean_squared_error: 0.3150\n",
      "Epoch 37/50\n",
      "\u001b[1m4088/4088\u001b[0m \u001b[32m━━━━━━━━━━━━━━━━━━━━\u001b[0m\u001b[37m\u001b[0m \u001b[1m6s\u001b[0m 2ms/step - loss: 0.3315 - mean_absolute_error: 0.4512 - mean_squared_error: 0.3315 - val_loss: 0.3514 - val_mean_absolute_error: 0.4637 - val_mean_squared_error: 0.3514\n",
      "Epoch 38/50\n",
      "\u001b[1m4088/4088\u001b[0m \u001b[32m━━━━━━━━━━━━━━━━━━━━\u001b[0m\u001b[37m\u001b[0m \u001b[1m6s\u001b[0m 2ms/step - loss: 0.3312 - mean_absolute_error: 0.4519 - mean_squared_error: 0.3312 - val_loss: 0.3266 - val_mean_absolute_error: 0.4492 - val_mean_squared_error: 0.3266\n",
      "Epoch 39/50\n",
      "\u001b[1m4088/4088\u001b[0m \u001b[32m━━━━━━━━━━━━━━━━━━━━\u001b[0m\u001b[37m\u001b[0m \u001b[1m6s\u001b[0m 2ms/step - loss: 0.3302 - mean_absolute_error: 0.4501 - mean_squared_error: 0.3302 - val_loss: 0.3165 - val_mean_absolute_error: 0.4439 - val_mean_squared_error: 0.3165\n",
      "Epoch 40/50\n",
      "\u001b[1m4088/4088\u001b[0m \u001b[32m━━━━━━━━━━━━━━━━━━━━\u001b[0m\u001b[37m\u001b[0m \u001b[1m6s\u001b[0m 2ms/step - loss: 0.3294 - mean_absolute_error: 0.4498 - mean_squared_error: 0.3294 - val_loss: 0.3116 - val_mean_absolute_error: 0.4384 - val_mean_squared_error: 0.3116\n",
      "Epoch 41/50\n",
      "\u001b[1m4088/4088\u001b[0m \u001b[32m━━━━━━━━━━━━━━━━━━━━\u001b[0m\u001b[37m\u001b[0m \u001b[1m6s\u001b[0m 2ms/step - loss: 0.3314 - mean_absolute_error: 0.4518 - mean_squared_error: 0.3314 - val_loss: 0.3276 - val_mean_absolute_error: 0.4503 - val_mean_squared_error: 0.3276\n",
      "Epoch 42/50\n",
      "\u001b[1m4088/4088\u001b[0m \u001b[32m━━━━━━━━━━━━━━━━━━━━\u001b[0m\u001b[37m\u001b[0m \u001b[1m6s\u001b[0m 2ms/step - loss: 0.3282 - mean_absolute_error: 0.4493 - mean_squared_error: 0.3282 - val_loss: 0.3097 - val_mean_absolute_error: 0.4366 - val_mean_squared_error: 0.3097\n",
      "Epoch 43/50\n",
      "\u001b[1m4088/4088\u001b[0m \u001b[32m━━━━━━━━━━━━━━━━━━━━\u001b[0m\u001b[37m\u001b[0m \u001b[1m6s\u001b[0m 2ms/step - loss: 0.3267 - mean_absolute_error: 0.4486 - mean_squared_error: 0.3267 - val_loss: 0.3225 - val_mean_absolute_error: 0.4462 - val_mean_squared_error: 0.3225\n",
      "Epoch 44/50\n",
      "\u001b[1m4088/4088\u001b[0m \u001b[32m━━━━━━━━━━━━━━━━━━━━\u001b[0m\u001b[37m\u001b[0m \u001b[1m6s\u001b[0m 2ms/step - loss: 0.3262 - mean_absolute_error: 0.4483 - mean_squared_error: 0.3262 - val_loss: 0.3116 - val_mean_absolute_error: 0.4388 - val_mean_squared_error: 0.3116\n",
      "Epoch 45/50\n",
      "\u001b[1m4088/4088\u001b[0m \u001b[32m━━━━━━━━━━━━━━━━━━━━\u001b[0m\u001b[37m\u001b[0m \u001b[1m6s\u001b[0m 2ms/step - loss: 0.3267 - mean_absolute_error: 0.4488 - mean_squared_error: 0.3267 - val_loss: 0.3103 - val_mean_absolute_error: 0.4402 - val_mean_squared_error: 0.3103\n",
      "Epoch 46/50\n",
      "\u001b[1m4088/4088\u001b[0m \u001b[32m━━━━━━━━━━━━━━━━━━━━\u001b[0m\u001b[37m\u001b[0m \u001b[1m6s\u001b[0m 2ms/step - loss: 0.3278 - mean_absolute_error: 0.4495 - mean_squared_error: 0.3278 - val_loss: 0.3385 - val_mean_absolute_error: 0.4571 - val_mean_squared_error: 0.3385\n",
      "Epoch 47/50\n",
      "\u001b[1m4088/4088\u001b[0m \u001b[32m━━━━━━━━━━━━━━━━━━━━\u001b[0m\u001b[37m\u001b[0m \u001b[1m6s\u001b[0m 2ms/step - loss: 0.3316 - mean_absolute_error: 0.4520 - mean_squared_error: 0.3316 - val_loss: 0.3318 - val_mean_absolute_error: 0.4529 - val_mean_squared_error: 0.3318\n",
      "Epoch 48/50\n",
      "\u001b[1m4088/4088\u001b[0m \u001b[32m━━━━━━━━━━━━━━━━━━━━\u001b[0m\u001b[37m\u001b[0m \u001b[1m6s\u001b[0m 2ms/step - loss: 0.3248 - mean_absolute_error: 0.4469 - mean_squared_error: 0.3248 - val_loss: 0.3454 - val_mean_absolute_error: 0.4597 - val_mean_squared_error: 0.3454\n",
      "Epoch 49/50\n",
      "\u001b[1m4088/4088\u001b[0m \u001b[32m━━━━━━━━━━━━━━━━━━━━\u001b[0m\u001b[37m\u001b[0m \u001b[1m6s\u001b[0m 2ms/step - loss: 0.3224 - mean_absolute_error: 0.4449 - mean_squared_error: 0.3224 - val_loss: 0.3280 - val_mean_absolute_error: 0.4526 - val_mean_squared_error: 0.3280\n",
      "Epoch 50/50\n",
      "\u001b[1m4088/4088\u001b[0m \u001b[32m━━━━━━━━━━━━━━━━━━━━\u001b[0m\u001b[37m\u001b[0m \u001b[1m6s\u001b[0m 2ms/step - loss: 0.3282 - mean_absolute_error: 0.4485 - mean_squared_error: 0.3282 - val_loss: 0.3218 - val_mean_absolute_error: 0.4456 - val_mean_squared_error: 0.3218\n"
     ]
    }
   ],
   "source": [
    "# Prepare separate inputs for training based on preprocessed features\n",
    "train_inputs = {\n",
    "    'input_length': X_train[:, 0],  # Assuming length is the first column after preprocessing\n",
    "    'input_performance': X_train[:, 1:]\n",
    "}\n",
    "\n",
    "enhanced_model = '../outputs/nn/advanced_model.h5'\n",
    "\n",
    "# Check if the pre-trained model exists\n",
    "if os.path.exists(enhanced_model):\n",
    "    model = keras.models.load_model(enhanced_model)\n",
    "    print(\"Loaded pre-trained model.\")\n",
    "else:\n",
    "    # Fit the model\n",
    "    history = model.fit(train_inputs, y_train, validation_split=0.2, epochs=50, batch_size=32, verbose=1)"
   ]
  },
  {
   "cell_type": "markdown",
   "metadata": {},
   "source": [
    "## Evaluating the Advanced Model\n",
    "We now evaluate how well our comprehensive model performs on the unseen test data."
   ]
  },
  {
   "cell_type": "code",
   "execution_count": 59,
   "metadata": {},
   "outputs": [
    {
     "name": "stdout",
     "output_type": "stream",
     "text": [
      "\u001b[1m1278/1278\u001b[0m \u001b[32m━━━━━━━━━━━━━━━━━━━━\u001b[0m\u001b[37m\u001b[0m \u001b[1m1s\u001b[0m 707us/step - loss: 0.3145 - mean_absolute_error: 0.4412 - mean_squared_error: 0.3145\n"
     ]
    }
   ],
   "source": [
    "# Prepare separate inputs for testing\n",
    "test_inputs = {\n",
    "    'input_length': X_test[:, 0],\n",
    "    'input_performance': X_test[:, 1:]\n",
    "}\n",
    "\n",
    "# Evaluate the model\n",
    "test_results = model.evaluate(test_inputs, y_test, verbose=1)"
   ]
  },
  {
   "cell_type": "markdown",
   "metadata": {},
   "source": [
    "## Performance Metrics and Report\n",
    "Here we calculate detailed metrics and visualize the training process to evaluate the model's effectiveness over time."
   ]
  },
  {
   "cell_type": "code",
   "execution_count": 60,
   "metadata": {},
   "outputs": [
    {
     "name": "stdout",
     "output_type": "stream",
     "text": [
      "\u001b[1m1278/1278\u001b[0m \u001b[32m━━━━━━━━━━━━━━━━━━━━\u001b[0m\u001b[37m\u001b[0m \u001b[1m2s\u001b[0m 1ms/step\n",
      "Mean Squared Error (MSE): 0.31556324411849307\n",
      "R^2 Score: 0.9350753923611995\n"
     ]
    }
   ],
   "source": [
    "# Making predictions using the test inputs prepared earlier\n",
    "test_predictions = model.predict(test_inputs)\n",
    "\n",
    "mse = mean_squared_error(y_test, test_predictions)\n",
    "r2 = r2_score(y_test, test_predictions)\n",
    "\n",
    "print(f\"Mean Squared Error (MSE): {mse}\")\n",
    "print(f\"R^2 Score: {r2}\")"
   ]
  },
  {
   "cell_type": "markdown",
   "metadata": {},
   "source": [
    "## Saving the Enhanced Model\n",
    "The model is saved along with its configuration and weights for future use or deployment."
   ]
  },
  {
   "cell_type": "code",
   "execution_count": 61,
   "metadata": {},
   "outputs": [
    {
     "name": "stderr",
     "output_type": "stream",
     "text": [
      "WARNING:absl:You are saving your model as an HDF5 file via `model.save()` or `keras.saving.save_model(model)`. This file format is considered legacy. We recommend using instead the native Keras format, e.g. `model.save('my_model.keras')` or `keras.saving.save_model(model, 'my_model.keras')`. \n"
     ]
    },
    {
     "name": "stdout",
     "output_type": "stream",
     "text": [
      "Model saved to ../outputs/nn\\advanced_model.h5\n"
     ]
    }
   ],
   "source": [
    "# Save the model\n",
    "model_path = os.path.join(output_dir, 'advanced_model.h5')\n",
    "model.save(model_path)\n",
    "print(f\"Model saved to {model_path}\")"
   ]
  },
  {
   "cell_type": "markdown",
   "metadata": {},
   "source": [
    "## Model Report\n",
    "Generate a detailed report including training history to analyze the model's learning process over epochs."
   ]
  },
  {
   "cell_type": "code",
   "execution_count": 62,
   "metadata": {},
   "outputs": [
    {
     "data": {
      "image/png": "[encoded data removed]",
      "text/plain": [
       "<Figure size 1200x600 with 2 Axes>"
      ]
     },
     "metadata": {},
     "output_type": "display_data"
    }
   ],
   "source": [
    "if 'history' in locals():\n",
    "    plt.figure(figsize=(12, 6))\n",
    "    plt.subplot(1, 2, 1)\n",
    "    plt.plot(history.history['loss'], label='Training Loss')\n",
    "    plt.plot(history.history['val_loss'], label='Validation Loss')\n",
    "    plt.title('Loss Over Epochs')\n",
    "    plt.xlabel('Epochs')\n",
    "    plt.ylabel('Loss')\n",
    "    plt.legend()\n",
    "\n",
    "    plt.subplot(1, 2, 2)\n",
    "    plt.plot(history.history['mean_squared_error'], label='Training MSE')\n",
    "    plt.plot(history.history['val_mean_squared_error'], label='Validation MSE')\n",
    "    plt.title('Mean Squared Error Over Epochs')\n",
    "    plt.xlabel('Epochs')\n",
    "    plt.ylabel('MSE')\n",
    "    plt.legend()\n",
    "\n",
    "    plt.show()"
   ]
  }
 ],
 "metadata": {
  "kernelspec": {
   "display_name": "Python 3",
   "language": "python",
   "name": "python3"
  },
  "language_info": {
   "codemirror_mode": {
    "name": "ipython",
    "version": 3
   },
   "file_extension": ".py",
   "mimetype": "text/x-python",
   "name": "python",
   "nbconvert_exporter": "python",
   "pygments_lexer": "ipython3",
   "version": "3.11.2"
  }
 },
 "nbformat": 4,
 "nbformat_minor": 2
}
